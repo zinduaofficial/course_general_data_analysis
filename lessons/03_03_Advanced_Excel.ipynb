{
  "nbformat": 4,
  "nbformat_minor": 0,
  "metadata": {
    "colab": {
      "provenance": []
    },
    "kernelspec": {
      "name": "python3",
      "display_name": "Python 3"
    },
    "language_info": {
      "name": "python"
    }
  },
  "cells": [
    {
      "cell_type": "markdown",
      "source": [
        "# Excel Functions and Tools Guide\n",
        "\n",
        "## Look-Up Functions\n",
        "\n",
        "### VLOOKUP\n",
        "![VLOOKUP](https://github.com/user-attachments/assets/17d74099-86b3-478c-b203-7c743d9f3ec0)\n",
        "\n",
        "### HLOOKUP\n",
        "![HLOOKUP](https://github.com/user-attachments/assets/ed8d172c-7bf9-47e1-affd-791b6e24c1e1)\n",
        "\n",
        "### Using Named Arrays\n",
        "![Using Named Arrays](https://github.com/user-attachments/assets/886d7ff4-5c9f-49f7-bd42-c8f867dfb01c)\n",
        "\n",
        "**Video Resource:** [Excel Index and Match](https://youtu.be/SW075RZ5188?si=IDIj5JVSiFByX73c)\n",
        "\n",
        "---\n",
        "\n",
        "## Text Functions in Excel\n",
        "\n",
        "Text functions help standardize text formatting:\n",
        "\n",
        "| Sample Text String | Formula         | Output           | Notes                                                      |\n",
        "|--------------------|------------------|------------------|------------------------------------------------------------|\n",
        "| SAMPLE sentence    | `=TRIM(A2)`      | SAMPLE sentence  | Removes leading/trailing spaces                           |\n",
        "| SAMPLE sentence    | `=LOWER(A3)`     | sample sentence  | Converts to lowercase                                     |\n",
        "| SAMPLE sentence    | `=UPPER(A4)`     | SAMPLE SENTENCE  | Converts to uppercase                                     |\n",
        "| SAMPLE sentence    | `=PROPER(A5)`    | Sample Sentence  | Capitalizes each word                                     |\n",
        "\n",
        "** Pro Tip:**  \n",
        "If two text strings differ only by a trailing space, Excel will treat them as different. Use `TRIM` to make them equivalent.\n",
        "\n",
        "---\n",
        "\n",
        "## 🔗 The CONCATENATE Function\n",
        "\n",
        "Use `CONCATENATE` or `&` to combine text or values.\n",
        "\n",
        "| First Name | Last Name | Formula                            | Output          |\n",
        "|------------|------------|------------------------------------|-----------------|\n",
        "| Daniel     | Wright     | `=A2&B2`                           | DanielWright    |\n",
        "| Daniel     | Wright     | `=A3&\" \"&B3`                       | Daniel Wright   |\n",
        "| Daniel     | Wright     | `=LEFT(A4,3)&\" \"&B4`              | Dan Wright      |\n",
        "| Daniel     | Wright     | `=LEFT(A5,3)&\" \"&LEFT(B5,1)&\".\"`  | Dan W.          |\n",
        "\n",
        "---\n",
        "\n",
        "## LEFT, MID, RIGHT, and LEN Functions\n",
        "\n",
        "| Sample Text String     | Formula            | Output | Notes                                               |\n",
        "|------------------------|--------------------|--------|-----------------------------------------------------|\n",
        "| MA-02215%AAA%_100      | `=LEFT(A3,2)`       | MA     | First 2 characters from left                        |\n",
        "| MA-02215%AAA%_100      | `=MID(A5,4,5)`      | 02215  | 5 characters starting from 4th character            |\n",
        "| MA-02215%AAA%_100      | `=RIGHT(A7,3)`      | 100    | Last 3 characters                                   |\n",
        "| MA-02215%AAA%_100      | `=LEN(A9)`          | 17     | Total number of characters in string                |\n",
        "\n",
        "---\n",
        "\n",
        "## TEXT Function\n",
        "\n",
        "Converts numbers to text with specified format.\n",
        "\n",
        "```excel\n",
        "=TEXT(value, format_text)\n",
        "\n",
        "\n"
      ],
      "metadata": {
        "id": "GOVjZe0bScRG"
      }
    }
  ]
}