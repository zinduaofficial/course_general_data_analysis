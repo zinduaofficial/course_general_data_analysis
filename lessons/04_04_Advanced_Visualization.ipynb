{
  "nbformat": 4,
  "nbformat_minor": 0,
  "metadata": {
    "colab": {
      "provenance": []
    },
    "kernelspec": {
      "name": "python3",
      "display_name": "Python 3"
    },
    "language_info": {
      "name": "python"
    }
  },
  "cells": [
    {
      "cell_type": "markdown",
      "source": [
        "## Advanced Visualizations in Tableau\n",
        "\n",
        "Explore a variety of advanced charts and visualizations to enhance your Tableau dashboards.\n",
        "\n",
        "### Maps\n",
        "- Learn how to create and customize geographic maps in Tableau.\n",
        "- [Watch Video](https://youtu.be/CEOMPcZdvlk?si=vULr0MVz36sp-62L)\n",
        "\n",
        "### Scatter Plots\n",
        "- Visualize relationships between two continuous variables using scatter plots.\n",
        "- [Watch Video](https://youtu.be/fv_wPICAJWc?si=KLgB9jkKcMapnJ-q)\n",
        "\n",
        "### Histogram\n",
        "- Display the distribution of a single continuous measure using histograms.\n",
        "- [Watch Video](https://youtu.be/NK0guFbNVe0?si=pQn_W1-BGZNQmg5e)\n",
        "\n",
        "### Bubble Charts\n",
        "- Represent data using bubbles with varying sizes based on a measure.\n",
        "- [Watch Video](https://youtu.be/oR74cb6dSZc?si=fp1SVEEqHS87wWDV)\n",
        "\n",
        "### Donut Charts\n",
        "- Create donut-style visualizations to show proportions or percentages.\n",
        "- [Watch Video](https://youtu.be/dLhojoAuiEI?si=RXzcalt5EvVgNYk0)\n",
        "\n",
        "### Tree Maps\n",
        "- Visualize hierarchical data using nested rectangles sized by a measure.\n",
        "- [Watch Video](https://youtu.be/CATv9X04Pd0?si=8QbHGKNMMTaccSXc)\n",
        "\n",
        "### KPI Charts\n",
        "- Design KPI indicators to track performance metrics and targets.\n",
        "- [Watch Video](https://youtu.be/zHH4BL-EUbc?si=gs-MDGOIxJSfuORF)\n"
      ],
      "metadata": {
        "id": "iZbFpd6C0vzn"
      }
    }
  ]
}