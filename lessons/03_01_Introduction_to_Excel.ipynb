{
  "nbformat": 4,
  "nbformat_minor": 0,
  "metadata": {
    "colab": {
      "provenance": []
    },
    "kernelspec": {
      "name": "python3",
      "display_name": "Python 3"
    },
    "language_info": {
      "name": "python"
    }
  },
  "cells": [
    {
      "cell_type": "markdown",
      "source": [
        "### Excel Tutorial Videos\n",
        "\n",
        "- [Tips and Tricks in Excel and Introduction](https://youtu.be/rwbho0CgEAE?si=qsHuNDbBuofcBypj)\n",
        "- [Navigating within Excel](https://youtu.be/qeMUjyOQ_-c?si=sxAFOfxuyupSDeBe)\n",
        "- [Useful Keyboard Shortcuts](https://youtu.be/iotrTlRT3q0?si=HWlkde-EI_9_jf5B)\n",
        "- [Using Filters in Excel](https://youtu.be/1FrYahVCG_o?si=Qcn7yX2NRXr7S_pM)\n"
      ],
      "metadata": {
        "id": "cpfEdP6YKHHS"
      }
    }
  ]
}