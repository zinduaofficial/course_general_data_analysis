{
  "nbformat": 4,
  "nbformat_minor": 0,
  "metadata": {
    "colab": {
      "provenance": []
    },
    "kernelspec": {
      "name": "python3",
      "display_name": "Python 3"
    },
    "language_info": {
      "name": "python"
    }
  },
  "cells": [
    {
      "cell_type": "markdown",
      "source": [
        "# Introduction to Tableau\n",
        "\n",
        "## Attribution\n",
        "\n",
        "This section of the course is based on **Matthew Hefferon's Tableau tutorials**.  \n",
        "You can explore his channel for more detailed videos and hands-on demos:  \n",
        " [Matthew Hefferon on YouTube](https://www.youtube.com/@matthewhefferon)\n",
        "\n",
        "**Intro to Tableau Course Video**  \n",
        "[Watch on YouTube](https://youtu.be/BAI63ItZrkY?si=aTHif0J-a9aNgUwA)\n",
        "\n",
        "---\n",
        "\n",
        "## Installing Tableau\n",
        "\n",
        "> **Note:** If your free trial of Tableau Desktop has expired, you can still use **Tableau Public**, which is completely free.\n",
        "\n",
        "**Watch how to install Tableau Public**  \n",
        "[Installing Tableau Public](https://youtu.be/c2pAvGTUQ2Q?si=wEQ0_dBQlDM9U0E6)\n",
        "\n",
        "---\n",
        "\n",
        "## Creating a Tableau Public Profile\n",
        "\n",
        "To save and share your work, you need to create a **Tableau Public profile**.\n",
        "\n",
        "**Watch the step-by-step guide**  \n",
        "[Create a Tableau Public Profile](https://youtu.be/GK9p-VUwhPE?si=HHZy2OsNvYEN1dKE)\n",
        "\n",
        "---\n",
        "\n",
        "Let me know if you'd like this included as part of your full data visualization guide or exported as a Markdown file.\n"
      ],
      "metadata": {
        "id": "C-_Mp992YGcO"
      }
    }
  ]
}