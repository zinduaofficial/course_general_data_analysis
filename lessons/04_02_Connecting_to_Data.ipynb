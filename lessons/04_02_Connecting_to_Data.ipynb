{
  "nbformat": 4,
  "nbformat_minor": 0,
  "metadata": {
    "colab": {
      "provenance": []
    },
    "kernelspec": {
      "name": "python3",
      "display_name": "Python 3"
    },
    "language_info": {
      "name": "python"
    }
  },
  "cells": [
    {
      "cell_type": "markdown",
      "source": [
        "## Tableau Data Concepts\n",
        "\n",
        "This section provides helpful video resources to understand essential Tableau data concepts:\n",
        "\n",
        "### Join Types\n",
        "- Learn how to perform different types of joins in Tableau (Inner, Left, Right, Full).\n",
        "- [Watch Video](https://youtu.be/17gD_l-rsUs?si=277wIj3cuAmJkayO)\n",
        "\n",
        "### Data Blending\n",
        "- Understand how Tableau blends data from multiple sources and when to use it.\n",
        "- [Watch Video](https://youtu.be/hvLiDGMSY2Y?si=XdTOQ7ikarWA-Q6x)\n",
        "\n",
        "### Relationships\n",
        "- Learn about Relationships in Tableau and how they differ from joins and blending.\n",
        "- [Watch Video](https://youtu.be/-km3T-EL4vs?si=qPd79Duaa5sR_Wsd)\n",
        "\n",
        "### Data Types and Connections\n",
        "- Overview of Tableau’s data types and how different data connections impact analysis.\n",
        "- [Watch Video](https://youtu.be/BxzUlO2ypcQ?si=tuuLwpTyJThyNgBD)\n"
      ],
      "metadata": {
        "id": "p81oa5IMVApt"
      }
    }
  ]
}