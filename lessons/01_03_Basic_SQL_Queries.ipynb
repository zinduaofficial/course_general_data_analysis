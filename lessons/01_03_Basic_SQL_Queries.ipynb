{
  "nbformat": 4,
  "nbformat_minor": 0,
  "metadata": {
    "colab": {
      "provenance": []
    },
    "kernelspec": {
      "name": "python3",
      "display_name": "Python 3"
    },
    "language_info": {
      "name": "python"
    }
  },
  "cells": [
    {
      "cell_type": "markdown",
      "source": [
        "### Update and Delete\n",
        "\n",
        "```sql\n",
        "DELETE FROM student;\n",
        "\n",
        "DELETE FROM student\n",
        "WHERE student_id = 4;\n",
        "\n",
        "DELETE FROM student\n",
        "WHERE major = 'Sociology' AND name = 'Kate';\n",
        "\n",
        "UPDATE student\n",
        "SET major = 'Undecided';\n",
        "\n",
        "UPDATE student\n",
        "SET name = 'Johnny'\n",
        "WHERE student_id = 4;\n",
        "\n",
        "UPDATE student\n",
        "SET major = 'Biological Sciences'\n",
        "WHERE major = 'Biology';\n",
        "\n",
        "UPDATE student\n",
        "SET major = 'Biosociology'\n",
        "WHERE major = 'Biology' OR major = 'sociology'\n",
        "\n",
        "UPDATE student\n",
        "SET major = 'Undecided', name = 'Tom'\n",
        "WHERE student_id = 4;\n",
        "```"
      ],
      "metadata": {
        "id": "z2_S6tbZZBEh"
      }
    },
    {
      "cell_type": "markdown",
      "source": [
        "### SELECT\n",
        "\n",
        "```sql\n",
        "SELECT *\n",
        "FROM student;\n",
        "\n",
        "SELECT student.name, student.major\n",
        "FROM student;\n",
        "\n",
        "SELECT *\n",
        "FROM student\n",
        "WHERE name = 'Jack';\n",
        "\n",
        "SELECT *\n",
        "FROM student\n",
        "WHERE student_id > 2;\n",
        "\n",
        "SELECT *\n",
        "FROM student\n",
        "WHERE major = 'Biology' AND student_id > 1;\n",
        "```"
      ],
      "metadata": {
        "id": "jIqBXfEkZWjb"
      }
    }
  ]
}