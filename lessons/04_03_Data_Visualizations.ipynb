{
  "nbformat": 4,
  "nbformat_minor": 0,
  "metadata": {
    "colab": {
      "provenance": []
    },
    "kernelspec": {
      "name": "python3",
      "display_name": "Python 3"
    },
    "language_info": {
      "name": "python"
    }
  },
  "cells": [
    {
      "cell_type": "markdown",
      "source": [
        "## Tableau Interface and Visualization Basics\n",
        "\n",
        "This section includes video resources to help you get familiar with the Tableau interface and create basic visualizations.\n",
        "\n",
        "### Tableau Interface\n",
        "- Overview of Tableau's user interface and layout.\n",
        "- [Watch Video](https://youtu.be/8fQXoyQ1w2A?si=7EPCNFAlmWnSvRN3)\n",
        "\n",
        "### Dimensions and Measures\n",
        "- Understanding the difference between dimensions and measures in Tableau.\n",
        "- [Watch Video](https://youtu.be/K5YaUKlNZbg?si=VY3tOHPncUjq4ryO)\n",
        "\n",
        "### Understanding Pills\n",
        "- Explanation of blue (discrete) and green (continuous) pills in Tableau.\n",
        "- [Watch Video](https://youtu.be/JOsDJwGGVpY?si=NtS25hd3XoBfPjMv)\n",
        "\n",
        "### Show Me Tab\n",
        "- How to use the \"Show Me\" tab to quickly create visualizations.\n",
        "- [Watch Video](https://youtu.be/BzPPDP4eaKw?si=JDI0SnZ6avI8mnWx)\n",
        "\n",
        "### Bar Charts\n",
        "- Creating and customizing bar charts in Tableau.\n",
        "- [Watch Video](https://youtu.be/BzPPDP4eaKw?si=JDI0SnZ6avI8mnWx)\n",
        "\n",
        "### Line Charts\n",
        "- Creating and interpreting line charts in Tableau.\n",
        "- [Watch Video](https://youtu.be/0xsLCwE0Yzo?si=0DmH_g4raCuWbb3z)\n",
        "\n",
        "### Lollipop Charts\n",
        "- How to create lollipop charts for clear comparisons.\n",
        "- [Watch Video](https://youtu.be/BpyG3u4mp1g?si=e6RWYyDe7yOFP21Y)\n",
        "\n",
        "### Area Charts\n",
        "- Building area charts and understanding their use cases.\n",
        "- [Watch Video](https://youtu.be/zBVWvYuB9Ko?si=fnAPFExa9lb2BHAh)\n"
      ],
      "metadata": {
        "id": "sDI3gTXMwrjQ"
      }
    }
  ]
}