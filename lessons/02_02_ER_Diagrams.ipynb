{
  "nbformat": 4,
  "nbformat_minor": 0,
  "metadata": {
    "colab": {
      "provenance": []
    },
    "kernelspec": {
      "name": "python3",
      "display_name": "Python 3"
    },
    "language_info": {
      "name": "python"
    }
  },
  "cells": [
    {
      "cell_type": "markdown",
      "source": [
        "# ER Diagrams Intro\n",
        "\n",
        "Entity-Relationship (ER) Diagrams are a visual way to represent the structure of a database. They show the **entities** (tables), their **attributes** (columns), and the **relationships** between them.\n",
        "\n",
        "ER Diagrams help in database design by clearly outlining how data is organized and how different entities interact with each other. They are especially useful in the planning phase of a database project.\n",
        "\n",
        "---\n",
        "\n",
        "## ER Diagram Template\n",
        "\n",
        "Below is a general template of an ER diagram that outlines how entities, attributes, and relationships are connected:\n",
        "\n",
        "![ER Diagram Template](http://www.mikedane.com/databases/sql/erd-template.png)\n",
        "\n",
        "---\n",
        "\n",
        "## Student Diagram\n",
        "\n",
        "Here's an example ER diagram for a school database. It shows entities like `Student`, `Course`, and `Enrollment`, along with how they are related:\n",
        "\n",
        "![Student ER Diagram](http://www.mikedane.com/databases/sql/student-erd.png)\n"
      ],
      "metadata": {
        "id": "O6oqf-OxgttC"
      }
    },
    {
      "cell_type": "markdown",
      "source": [
        "# ER Diagram Design\n",
        "\n",
        "## Company Data Storage Requirements\n",
        "\n",
        "The company is organized into branches. Each branch has:\n",
        "- A unique number\n",
        "- A name\n",
        "- A manager (who is an employee)\n",
        "\n",
        "The company makes its money by selling to clients. Each client has:\n",
        "- A name\n",
        "- A unique number (ID)\n",
        "\n",
        "The foundation of the company is its employees. Each employee has:\n",
        "- A name\n",
        "- Birthdate\n",
        "- Sex\n",
        "- Salary\n",
        "- A unique number (ID)\n",
        "\n",
        "### Key Relationships:\n",
        "\n",
        "- **Branch-Employee:**  \n",
        "  An employee can work for one branch at a time.  \n",
        "  Each branch is managed by one of its employees.  \n",
        "  We keep track of the manager's start date.\n",
        "\n",
        "- **Employee-Employee (Supervision):**  \n",
        "  An employee can supervise other employees.  \n",
        "  An employee may have at most one supervisor, possibly from another branch.\n",
        "\n",
        "- **Branch-Client:**  \n",
        "  A branch handles multiple clients.  \n",
        "  Each client is assigned to one branch only.\n",
        "\n",
        "- **Employee-Client (Sales):**  \n",
        "  Employees sell products/services to clients.  \n",
        "  Multiple employees may work with the same client.  \n",
        "  We track the dollar amount of each employee's sales to each client.\n",
        "\n",
        "- **Branch-Supplier:**  \n",
        "  Branches buy inventory from suppliers.  \n",
        "  For each supplier, we store their name and the type of product they supply.  \n",
        "  Suppliers may supply multiple branches.\n",
        "\n",
        "---\n",
        "\n",
        "## Company ER Diagram\n",
        "\n",
        "Below is the ER Diagram representing the company's data structure:\n",
        "\n",
        "![Company ER Diagram](http://www.mikedane.com/databases/sql/company-erd.png)\n"
      ],
      "metadata": {
        "id": "la4CehB1h4-c"
      }
    },
    {
      "cell_type": "markdown",
      "source": [
        "# ER Diagram Mapping\n",
        "\n",
        "## Company Database Schema\n",
        "\n",
        "The following diagram illustrates how the entities and relationships described in the ER diagram are mapped into a relational database schema. Each entity is represented as a table, and relationships are implemented using primary and foreign keys.\n",
        "\n",
        "This schema includes:\n",
        "- Tables for `employee`, `branch`, `client`, `works_with`, and `branch_supplier`\n",
        "- Primary keys to uniquely identify each record\n",
        "- Foreign keys to enforce relationships between tables (e.g., employee to branch, branch to manager)\n",
        "\n",
        "![Company Database Schema](http://www.mikedane.com/databases/sql/company-relations.png)\n"
      ],
      "metadata": {
        "id": "3afgu4UjiWI6"
      }
    }
  ]
}