{
  "nbformat": 4,
  "nbformat_minor": 0,
  "metadata": {
    "colab": {
      "provenance": []
    },
    "kernelspec": {
      "name": "python3",
      "display_name": "Python 3"
    },
    "language_info": {
      "name": "python"
    }
  },
  "cells": [
    {
      "cell_type": "markdown",
      "source": [
        "## Normal Forms in Database Design\n",
        "\n",
        "Database Normalisation (By Cyril Michino (Zindua School)\n",
        "\n",
        "Access Databse Normalization Notes <a href=\"https://docs.google.com/presentation/d/1OBPBlckjw4NHlKei4yCcqXF1Umqpvmco-3pm0BrAddI/edit?usp=sharing\">here. </a>"
      ],
      "metadata": {
        "id": "zTxul_a0jAA-"
      }
    },
    {
      "cell_type": "code",
      "execution_count": null,
      "metadata": {
        "id": "99Lf7qf2i8zY"
      },
      "outputs": [],
      "source": []
    }
  ]
}