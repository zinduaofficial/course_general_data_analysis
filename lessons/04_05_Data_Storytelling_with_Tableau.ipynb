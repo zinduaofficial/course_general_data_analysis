{
  "nbformat": 4,
  "nbformat_minor": 0,
  "metadata": {
    "colab": {
      "provenance": []
    },
    "kernelspec": {
      "name": "python3",
      "display_name": "Python 3"
    },
    "language_info": {
      "name": "python"
    }
  },
  "cells": [
    {
      "cell_type": "markdown",
      "source": [
        "## Data Storytelling with Tableau\n",
        "\n",
        "This section focuses on using Tableau for storytelling, dashboard design, and interactive features like tooltips.\n",
        "\n",
        "### Tooltips and Viz in ToolTips\n",
        "- Learn how to enhance your visualizations using tooltips and embedded visualizations (Viz in ToolTips).\n",
        "- [Watch Video](https://youtu.be/w7vHTzQAteY?si=FyN8WnXIDuRDCrE2)\n",
        "\n",
        "### Dashboard and Layout Pane\n",
        "- Understand how to build dashboards and use the layout pane for better control and formatting.\n",
        "- [Watch Video](https://youtu.be/kyY0qwb97zc?si=qRReVI0PWy2T1uln)\n",
        "\n",
        "### Dashboard Clone 1\n",
        "- First part of the dashboard cloning tutorial.\n",
        "- [Watch Video](https://youtu.be/E3aYJ9VHx-s?si=jy10C9q6PZP-4bhA)\n",
        "- [View Dashboard](https://public.tableau.com/app/profile/matthewhefferon/viz/Thestartupraceison/StartupsClone)\n",
        "\n",
        "### Dashboard Clone 2\n",
        "- Second part of the dashboard cloning tutorial.\n",
        "- [Watch Video](https://youtu.be/_Mioe7ePSIg?si=jpmlI90lBB2rs0X8)\n",
        "- [View Dashboard](https://public.tableau.com/app/profile/matthewhefferon/viz/TrailUsageintheU_S__16111099597150/TrailUsageIntheU_S_Clone)\n",
        "\n",
        "### Dashboard Clone 3\n",
        "- Final part of the dashboard cloning tutorial.\n",
        "- [Watch Video](https://youtu.be/FBWfUgk7T9g?si=GbpZ88bJyXebZRSi)\n",
        "- View the final Gender Inequality in Adolescents with HIV dashboard.\n",
        "- [View Dashboard](https://public.tableau.com/app/profile/josh.hughes/viz/GenderInequalityinAdolescentswithHIV/Dashboard1)\n"
      ],
      "metadata": {
        "id": "4j9OFHSe2qIn"
      }
    }
  ]
}